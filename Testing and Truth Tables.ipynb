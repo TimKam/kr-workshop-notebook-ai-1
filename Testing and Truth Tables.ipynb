{
 "cells": [
  {
   "cell_type": "markdown",
   "id": "incorrect-reggae",
   "metadata": {},
   "source": [
    "This micro tutorial explains how to use truth tables for unit testing.\n",
    "We start by implementing an ``XOR`` function in Python."
   ]
  },
  {
   "cell_type": "code",
   "execution_count": 9,
   "id": "alternative-wheat",
   "metadata": {},
   "outputs": [],
   "source": [
    "def xor(a, b):\n",
    "  return not ((a and b) or (not a and not b))"
   ]
  },
  {
   "cell_type": "markdown",
   "id": "extended-constitutional",
   "metadata": {},
   "source": [
    "Let us test the function, using the complete truth table for XOR (exclusive or). We first install and configure a test library."
   ]
  },
  {
   "cell_type": "code",
   "execution_count": 10,
   "id": "exciting-taylor",
   "metadata": {},
   "outputs": [],
   "source": [
    "%%capture\n",
    "!pip install -U pytest ipytest"
   ]
  },
  {
   "cell_type": "code",
   "execution_count": 11,
   "id": "cordless-bowling",
   "metadata": {},
   "outputs": [],
   "source": [
    "import ipytest\n",
    "ipytest.autoconfig()"
   ]
  },
  {
   "cell_type": "code",
   "execution_count": 5,
   "id": "several-convergence",
   "metadata": {},
   "outputs": [],
   "source": [
    "%%capture\n",
    "!pip3 install -U ipytest"
   ]
  },
  {
   "cell_type": "markdown",
   "id": "medieval-bangladesh",
   "metadata": {},
   "source": [
    "Now we can write and run the tests. The tests correspond to the XOR truth table."
   ]
  },
  {
   "cell_type": "code",
   "execution_count": 15,
   "id": "illegal-sacramento",
   "metadata": {},
   "outputs": [
    {
     "name": "stdout",
     "output_type": "stream",
     "text": [
      "\u001b[32m.\u001b[0m\u001b[32m                                                                                            [100%]\u001b[0m\n",
      "\u001b[32m\u001b[32m\u001b[1m1 passed\u001b[0m\u001b[32m in 0.02s\u001b[0m\u001b[0m\n"
     ]
    }
   ],
   "source": [
    "%%ipytest\n",
    "def test_xor():\n",
    "    assert xor(True, True) == False\n",
    "    assert xor(True, False) == True\n",
    "    assert xor(False, True) == True\n",
    "    assert xor(False, False) == False"
   ]
  },
  {
   "cell_type": "markdown",
   "id": "round-three",
   "metadata": {},
   "source": [
    "As an exercise, you can try to implement and test logical implication.\n",
    "\n",
    "More interestingly, let us use truth tables to test functions that do not have exclusively boolean inputs or outputs. Let us consider a function that determines credit eligibility. This time, our function is partly obfuscated and we want to check if it satisfies some requirements:\n",
    "\n",
    "* Applicant should be eligible if debt is smaller equal 0 and income greater 2000.\n",
    "* Applicant should be eligible if debt is smaller than 50000 and income greater 4000.\n",
    "* Application should not be eligible otherwise."
   ]
  },
  {
   "cell_type": "code",
   "execution_count": 16,
   "id": "analyzed-reference",
   "metadata": {},
   "outputs": [],
   "source": [
    "def a (OO00000OO0OOO0O0O ,O0O00OOOOOO0OO000 ):\n",
    "    return True if (O0O00OOOOOO0OO000 <=0 and OO00000OO0OOO0O0O >2000 )or (O0O00OOOOOO0OO000 <50000 and OO00000OO0OOO0O0O >4000 )else False \n",
    "\n",
    "def is_eligible(income, debt):\n",
    "    return a(income, debt)"
   ]
  },
  {
   "cell_type": "code",
   "execution_count": 20,
   "id": "worthy-oriental",
   "metadata": {},
   "outputs": [
    {
     "name": "stdout",
     "output_type": "stream",
     "text": [
      "\u001b[32m.\u001b[0m\u001b[32m                                                                                            [100%]\u001b[0m\n",
      "\u001b[32m\u001b[32m\u001b[1m1 passed\u001b[0m\u001b[32m in 0.02s\u001b[0m\u001b[0m\n"
     ]
    }
   ],
   "source": [
    "%%ipytest\n",
    "def test_is_eligible():\n",
    "    assert is_eligible(2001, 0) == True\n",
    "    assert is_eligible(4001, 49999) == True\n",
    "    assert is_eligible(2001, 1) == False\n",
    "    assert is_eligible(2000, 0) == False\n",
    "    assert is_eligible(4001, 50000) == False\n",
    "    assert is_eligible(4000, 49999) == False"
   ]
  },
  {
   "cell_type": "markdown",
   "id": "tribal-awareness",
   "metadata": {},
   "source": [
    "As we do not know the exact function behavior, we cannot be sure if it satisfies our requirements. In our example, we expect that our function makes use of some if-then rules and does not add any \"unintuitive\" exceptions (roughly speaking). We could potentially run a simulation to test more extensively, but it is (almost) impossible to get any guarantees.\n",
    "This is problematic, because when implementing real-world software systems, program code is often not intelligible for domain experts. To address this, we can make use of declarative approaches, e.g. of *rules engines*."
   ]
  },
  {
   "cell_type": "code",
   "execution_count": null,
   "id": "national-convergence",
   "metadata": {},
   "outputs": [],
   "source": []
  }
 ],
 "metadata": {
  "kernelspec": {
   "display_name": "Python 3",
   "language": "python",
   "name": "python3"
  },
  "language_info": {
   "codemirror_mode": {
    "name": "ipython",
    "version": 3
   },
   "file_extension": ".py",
   "mimetype": "text/x-python",
   "name": "python",
   "nbconvert_exporter": "python",
   "pygments_lexer": "ipython3",
   "version": "3.9.0"
  }
 },
 "nbformat": 4,
 "nbformat_minor": 5
}
